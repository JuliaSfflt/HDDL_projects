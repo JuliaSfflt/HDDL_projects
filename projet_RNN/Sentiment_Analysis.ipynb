{
 "cells": [
  {
   "cell_type": "code",
   "execution_count": 1,
   "id": "d0a654dd-6f2f-4fd8-aafb-72ceaf1e0a2e",
   "metadata": {},
   "outputs": [
    {
     "name": "stdout",
     "output_type": "stream",
     "text": [
      "Train set - Positive: 12500, Negative: 12500\n",
      "Test set - Positive: 12500, Negative: 12500\n"
     ]
    }
   ],
   "source": [
    "import os\n",
    "\n",
    "# Đường dẫn tới thư mục chứa bộ dữ liệu\n",
    "base_dir = 'IMDB_dataset'  # Thay thế bằng đường dẫn thực tế tới thư mục dữ liệu của bạn\n",
    "\n",
    "# Khởi tạo các biến để lưu trữ số lượng bình luận\n",
    "train_pos_count = 0\n",
    "train_neg_count = 0\n",
    "test_pos_count = 0\n",
    "test_neg_count = 0\n",
    "\n",
    "# Duyệt qua thư mục train và test để đếm số lượng bình luận tích cực và tiêu cực\n",
    "for folder in ['train', 'test']:\n",
    "    for sentiment in ['pos', 'neg']:\n",
    "        sentiment_folder = os.path.join(base_dir, folder, sentiment)\n",
    "        # Đếm số lượng tệp .txt trong mỗi thư mục\n",
    "        count = len([f for f in os.listdir(sentiment_folder) if f.endswith('.txt')])\n",
    "        \n",
    "        if folder == 'train' and sentiment == 'pos':\n",
    "            train_pos_count = count\n",
    "        elif folder == 'train' and sentiment == 'neg':\n",
    "            train_neg_count = count\n",
    "        elif folder == 'test' and sentiment == 'pos':\n",
    "            test_pos_count = count\n",
    "        elif folder == 'test' and sentiment == 'neg':\n",
    "            test_neg_count = count\n",
    "\n",
    "# Hiển thị kết quả\n",
    "print(f\"Train set - Positive: {train_pos_count}, Negative: {train_neg_count}\")\n",
    "print(f\"Test set - Positive: {test_pos_count}, Negative: {test_neg_count}\")\n"
   ]
  }
 ],
 "metadata": {
  "kernelspec": {
   "display_name": "TensorFlow GPU",
   "language": "python",
   "name": "tf-gpu"
  },
  "language_info": {
   "codemirror_mode": {
    "name": "ipython",
    "version": 3
   },
   "file_extension": ".py",
   "mimetype": "text/x-python",
   "name": "python",
   "nbconvert_exporter": "python",
   "pygments_lexer": "ipython3",
   "version": "3.9.19"
  }
 },
 "nbformat": 4,
 "nbformat_minor": 5
}
