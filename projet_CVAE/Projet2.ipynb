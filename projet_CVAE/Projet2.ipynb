{
 "cells": [
  {
   "cell_type": "markdown",
   "id": "37afd701-b15d-455c-8c30-94ab132a78c3",
   "metadata": {},
   "source": [
    "The objective of this mini-project is to define and train a Conditional VAE\n",
    "(CVAE), by following the instructions below:\n",
    "\n",
    "## Find resources that explain what a CVAE is, it’s difference with VAEs, the loss functions used to train it etc.\n",
    "\n",
    "\n",
    "https://medium.com/@sofeikov/implementing-variational-autoencoders-from-scratch-533782d8eb95\n",
    "\n",
    "https://medium.com/@sofeikov/implementing-conditional-variational-auto-encoders-cvae-from-scratch-29fcbb8cb08f\n",
    "\n",
    "https://theaiacademy.blogspot.com/2020/05/understanding-conditional-variational.html\n",
    "\n",
    "**À expliquer** \n",
    "\n",
    "Problème du VAE : 1) impossibilité de générer un nouvel échantillon (image+label) en imposant des conditions spécifiques (par exemple, générer une image à partir du label)\n",
    "Ce qu'il faudrait expliquer : prior distribution, ce qu'est un encodeur/décodeur, AE et VAE\n",
    "\n",
    "Différence avec VAE : Pour générer une nouvelle observation x, la VAE, on sélectionne un z à partir de la distribution a priori et on retrouve le label de x en calculant P(x sachant z). Avec la CVAE, on selectionne un (z sachant y) ie on choisit le label du x qu'on veut générer, et ensuite, on génére (x sachant y et z)\n",
    "\n",
    "Choix de la loss function (voir cours VAE slide 35)\n",
    "\n",
    "https://cedric.cnam.fr/vertigo/cours/RCP211/auto-encodeurs-variationnels.html\n",
    "\n",
    "\n",
    "\n",
    "**Fin**\n"
   ]
  },
  {
   "cell_type": "markdown",
   "id": "7ebee351-d538-4061-9370-8de567fa9a3d",
   "metadata": {},
   "source": [
    "\n",
    "## Train a CVAE on the Fashion-MNIST dataset (available to download from torchvision).\n",
    "\n",
    "Explain and argue the different choices you make along the way, in particular:\n",
    "– The choice of the architecture, the layer types, the layer sizes and the\n",
    "activations.\n",
    "– The choice of the different hyper-parameters: batch size, learning rate,\n",
    "number of epochs, regularization weight...\n",
    "– The choice of the loss function, the different terms in it, and their\n",
    "individual purposes.\n",
    "\n",
    "\n",
    "Include links to articles, blog posts, videos... that helped you decide on the above choices.\n",
    "\n",
    "\n",
    "Include the code of the different trials/experiments that helped you decide on the above choices.\n",
    "\n",
    "\n"
   ]
  },
  {
   "cell_type": "code",
   "execution_count": 1,
   "id": "ad173080-9850-461a-b3c5-b90bfb2ea4a2",
   "metadata": {},
   "outputs": [
    {
     "name": "stdout",
     "output_type": "stream",
     "text": [
      "cuda\n"
     ]
    }
   ],
   "source": [
    "%load_ext autoreload\n",
    "%autoreload 2\n",
    "\n",
    "import numpy as np\n",
    "\n",
    "import torch\n",
    "from torch.utils.data import DataLoader\n",
    "import torchvision\n",
    "import torch.nn as nn\n",
    "import torch.optim as optim\n",
    "import matplotlib.pyplot as plt\n",
    "import torch.nn.functional as F\n",
    "\n",
    "\n",
    "device = torch.device(\"cuda\" if torch.cuda.is_available() else \"cpu\")\n",
    "print(device)"
   ]
  },
  {
   "cell_type": "code",
   "execution_count": 75,
   "id": "66706afb-152d-4d3a-8606-3c6c667b4372",
   "metadata": {},
   "outputs": [],
   "source": [
    "from torchvision import datasets, transforms\n",
    "batch_size = 128\n",
    "\n",
    "# Data loading\n",
    "transform = transforms.Compose([transforms.ToTensor()])\n",
    "train_dataset = datasets.FashionMNIST(root='../../data', train=True, transform=transform, download=True)\n",
    "test_dataset = datasets.FashionMNIST(root='../../data', train=False, transform=transform, download=True)\n",
    "\n",
    "train_loader = torch.utils.data.DataLoader(dataset=train_dataset, batch_size=batch_size, shuffle=True)\n",
    "test_loader = torch.utils.data.DataLoader(dataset=test_dataset, batch_size=batch_size, shuffle=False)\n",
    "\n",
    "fashion_mnist_labels = [\n",
    "    \"T-shirt/top\",\n",
    "    \"Pants\",\n",
    "    \"Pullover\",\n",
    "    \"Dress\",\n",
    "    \"Coat\",\n",
    "    \"Sandal\",\n",
    "    \"Shirt\",\n",
    "    \"Sneaker\",\n",
    "    \"Bag\",\n",
    "    \"Ankle boot\"\n",
    "]\n"
   ]
  },
  {
   "cell_type": "code",
   "execution_count": 5,
   "id": "957c3b19-cd7e-442a-aa4f-429d21affabd",
   "metadata": {},
   "outputs": [
    {
     "data": {
      "image/png": "[encoded data removed]",
      "text/plain": [
       "<Figure size 800x800 with 9 Axes>"
      ]
     },
     "metadata": {},
     "output_type": "display_data"
    },
    {
     "name": "stdout",
     "output_type": "stream",
     "text": [
      "[0 1 2 3 4 5 6 7 8 9]\n",
      "10\n"
     ]
    }
   ],
   "source": [
    "# Plot 9 random images from the MNIST train dataset\n",
    "def plot_images(img_dataset):\n",
    "    \"\"\"Plots 9 random images from the given dataset\n",
    "\n",
    "    Args:\n",
    "        img_dataset (torch.utils.data.Dataset): The dataset to plot images from\n",
    "    \"\"\"\n",
    "\n",
    "    # Set up a 3x3 grid for plotting 9 random images\n",
    "    figure = plt.figure(figsize=(8, 8))\n",
    "    cols, rows = 3, 3\n",
    "    \n",
    "    # Plot 9 random images from the img_dataset\n",
    "    for i in range(1, cols * rows + 1):\n",
    "        random_idx = torch.randint(len(img_dataset), size=(1,)).item()  # Pick a random index\n",
    "        img, label = img_dataset[random_idx]  # Get the image and its label\n",
    "        figure.add_subplot(rows, cols, i)  # Add subplot\n",
    "        plt.title(f'Label: {label}')  # Set title to show the label\n",
    "        plt.axis(\"off\")  # Turn off axis\n",
    "        plt.imshow(img.squeeze(), cmap=\"gray\")  # Plot image\n",
    "    \n",
    "    plt.show()  # Display the figure\n",
    "\n",
    "plot_images(train_dataset)\n",
    "print(np.unique(train_dataset.targets[:]))\n",
    "num_classes = np.size(np.unique(train_dataset.targets[:]))\n",
    "print(num_classes)"
   ]
  },
  {
   "cell_type": "code",
   "execution_count": 42,
   "id": "a84e7961-6edb-4a4e-93ef-9952555d97a3",
   "metadata": {},
   "outputs": [],
   "source": [
    "class CVAE(nn.Module):\n",
    "    def __init__(self, latent_dim=10):\n",
    "        super(CVAE, self).__init__()\n",
    "        self.latent_dim = latent_dim\n",
    "        \n",
    "        # Encoder\n",
    "        self.encoder = nn.Sequential(\n",
    "            nn.Conv2d(1, 32, kernel_size=4, stride=2, padding=1),  # Output: (32, 14, 14)\n",
    "            nn.BatchNorm2d(32),\n",
    "            nn.ReLU(),\n",
    "            nn.Conv2d(32, 64, kernel_size=4, stride=2, padding=1),  # Output: (64, 7, 7)\n",
    "            nn.BatchNorm2d(64),\n",
    "            nn.ReLU(),\n",
    "            nn.Conv2d(64, 128, kernel_size=3, stride=2, padding=1),  # Output: (128, 4, 4) + kernel_size = 3 : capturer des détails plus fins\n",
    "            nn.BatchNorm2d(128),\n",
    "            nn.ReLU(),\n",
    "        )\n",
    "\n",
    "        # Fully connected layers for mean and log variance\n",
    "        self.fc_mu = nn.Linear(128 * 4 * 4 + num_classes, latent_dim) \n",
    "        self.fc_logvar = nn.Linear(128 * 4 * 4+ num_classes, latent_dim)  #pour forcer à avor des valeurs positives, on prend le log de var et non pas var\n",
    "        self.fc_decode = nn.Linear(latent_dim+ num_classes, 128 * 4 * 4) \n",
    "        \n",
    "        # Decoder\n",
    "        self.decoder = nn.Sequential(\n",
    "            nn.ConvTranspose2d(128, 64, kernel_size=3, stride=2, padding=1),  # Output: (64, 8, 8)\n",
    "            nn.BatchNorm2d(64),\n",
    "            nn.ReLU(),\n",
    "            nn.ConvTranspose2d(64, 32, kernel_size=4, stride=2, padding=1),  # Output: (32, 16, 16)\n",
    "            nn.BatchNorm2d(32),\n",
    "            nn.ReLU(),\n",
    "            nn.ConvTranspose2d(32, 1, kernel_size=4, stride=2, padding=1),  # Output: (1, 28, 28)\n",
    "            nn.Sigmoid()\n",
    "        )\n",
    "\n",
    "    #TO DO (concatenation de x et y)\n",
    "    def encode(self, x, y):\n",
    "        x = self.encoder(x)\n",
    "        x = x.view(x.size(0), -1)\n",
    "        y = y.view(y.size(0), -1)\n",
    "        x = torch.cat((x,y), dim = 1) # Concatenate and flatten the output of the convolutional layers\n",
    "        mu = self.fc_mu(x)\n",
    "        logvar = self.fc_logvar(x)\n",
    "        return mu, logvar\n",
    "    \n",
    "\n",
    "    def sample(self, mu, logvar):\n",
    "        std = torch.exp(0.5 * logvar)\n",
    "        eps = torch.randn_like(std)\n",
    "        return mu + eps * std\n",
    "        \n",
    "     #TO DO (concatenation de z et y)\n",
    "    def decode(self, z, y):\n",
    "        z = torch.cat((z,y), dim = 1)\n",
    "        x = self.fc_decode(z)\n",
    "        x = x.view(-1, 128, 4, 4)  # Reshape to (128, 4, 4) for the decoder\n",
    "        x = self.decoder(x)\n",
    "        return x\n",
    "        \n",
    "    #TO DO (ajout de y en argument)\n",
    "    def forward(self, x, y):\n",
    "        mu, logvar = self.encode(x,y)\n",
    "        z = self.sample(mu, logvar)\n",
    "        return self.decode(z,y), mu, logvar"
   ]
  },
  {
   "cell_type": "markdown",
   "id": "091e68ea-c0a6-4f03-bf8d-2cdfe1b3e6c8",
   "metadata": {},
   "source": [
    "$$\n",
    "\\text{Sortie} = \\left\\lfloor \\frac{\\text{Entrée} + 2 \\times \\text{padding} - \\text{kernel\\_size}}{\\text{stride}} \\right\\rfloor + 1\n",
    "$$"
   ]
  },
  {
   "cell_type": "markdown",
   "id": "c1ae05d7-dcf1-4a7e-85c5-329dd5475500",
   "metadata": {},
   "source": [
    "#### Loss function"
   ]
  },
  {
   "cell_type": "code",
   "execution_count": 43,
   "id": "17aae6e2-4e95-4db1-acb3-9656696dd933",
   "metadata": {},
   "outputs": [],
   "source": [
    "def loss_function(recon_x, x, mu, logvar, beta=1):\n",
    "    BCE = F.binary_cross_entropy(recon_x, x, reduction='sum') #terme de reconstruction (noir et blanc contraste sinon mse)\n",
    "    KLD = -0.5 * torch.sum(1 + logvar - mu.pow(2) - logvar.exp()) #envoyer sur une loi normale\n",
    "    return BCE + beta * KLD"
   ]
  },
  {
   "cell_type": "code",
   "execution_count": 44,
   "id": "e86389ec-4688-4e5e-926b-f802b0d6f9f9",
   "metadata": {},
   "outputs": [
    {
     "name": "stdout",
     "output_type": "stream",
     "text": [
      "Epoch 1, Training loss: 270.5809\n",
      "Epoch 2, Training loss: 257.4013\n",
      "Epoch 3, Training loss: 255.8330\n",
      "Epoch 4, Training loss: 254.9700\n",
      "Epoch 5, Training loss: 254.2281\n",
      "Epoch 6, Training loss: 253.7852\n",
      "Epoch 7, Training loss: 253.3877\n",
      "Epoch 8, Training loss: 253.1193\n",
      "Epoch 9, Training loss: 252.9134\n",
      "Epoch 10, Training loss: 252.5462\n",
      "Epoch 11, Training loss: 252.3131\n",
      "Epoch 12, Training loss: 252.1821\n",
      "Epoch 13, Training loss: 251.9525\n",
      "Epoch 14, Training loss: 251.8490\n",
      "Epoch 15, Training loss: 251.5638\n",
      "Epoch 16, Training loss: 251.4523\n",
      "Epoch 17, Training loss: 251.3476\n",
      "Epoch 18, Training loss: 251.2058\n",
      "Epoch 19, Training loss: 251.0375\n",
      "Epoch 20, Training loss: 250.9012\n",
      "Epoch 21, Training loss: 250.7898\n",
      "Epoch 22, Training loss: 250.6626\n",
      "Epoch 23, Training loss: 250.6041\n",
      "Epoch 24, Training loss: 250.4958\n",
      "Epoch 25, Training loss: 250.3843\n",
      "Epoch 26, Training loss: 250.2729\n",
      "Epoch 27, Training loss: 250.2000\n",
      "Epoch 28, Training loss: 250.1609\n",
      "Epoch 29, Training loss: 250.0239\n",
      "Epoch 30, Training loss: 249.9697\n"
     ]
    }
   ],
   "source": [
    "# Hyperparameters\n",
    "batch_size = 128\n",
    "latent_dim = 2\n",
    "learning_rate = 1e-3\n",
    "epochs = 30\n",
    "beta = 1\n",
    "\n",
    "# Initialize the VAE model and the Adam optimizer\n",
    "cvae = CVAE(latent_dim=latent_dim)\n",
    "cvae.to(device)\n",
    "optimizer = optim.Adam(cvae.parameters(), lr=learning_rate)\n",
    "\n",
    "# Train the model for the given number of epochs\n",
    "# At the end of each epoch, print the training loss\n",
    "for epoch in range(1, epochs + 1):\n",
    "    cvae.train()\n",
    "    running_loss = 0.0\n",
    "    for batch_idx, (data, labels) in enumerate(train_loader):\n",
    "        data = data.to(device)\n",
    "        labels = F.one_hot(labels, num_classes=10).to(device)\n",
    "        optimizer.zero_grad()\n",
    "        recon_batch, mu, logvar = cvae(data, labels)\n",
    "        loss = loss_function(recon_batch, data, mu, logvar)\n",
    "        loss.backward()\n",
    "        optimizer.step()\n",
    "\n",
    "        running_loss += loss.item()\n",
    "        #running_test_loss += loss.item() * images.size(0)\n",
    "    epoch_loss = running_loss / len(train_loader.dataset)\n",
    "    print(f'Epoch {epoch}, Training loss: {epoch_loss:.4f}')"
   ]
  },
  {
   "cell_type": "markdown",
   "id": "99031bde-3c7c-49fe-93d4-77e463a283f8",
   "metadata": {},
   "source": [
    "### Visualize results"
   ]
  },
  {
   "cell_type": "code",
   "execution_count": 81,
   "id": "7523499a-d9a2-4ea7-9a59-8fc95b2825b1",
   "metadata": {},
   "outputs": [
    {
     "name": "stdout",
     "output_type": "stream",
     "text": [
      "Original labels shape: torch.Size([128])\n",
      "One-hot labels shape: torch.Size([128, 10])\n"
     ]
    },
    {
     "data": {
      "image/png": "[encoded data removed]",
      "text/plain": [
       "<Figure size 2000x700 with 12 Axes>"
      ]
     },
     "metadata": {},
     "output_type": "display_data"
    },
    {
     "name": "stdout",
     "output_type": "stream",
     "text": [
      "Ankle boot\n",
      "Pullover\n",
      "Pants\n",
      "Pants\n",
      "Shirt\n",
      "Pants\n"
     ]
    }
   ],
   "source": [
    "# TODO: Define or import the image_comparison function\n",
    "from utils import image_comparison \n",
    "# Select a batch of images from the test dataset\n",
    "random_images = next(iter(test_loader))\n",
    "# Vérifier la forme des étiquettes\n",
    "labels = random_images[1]\n",
    "print(f\"Original labels shape: {labels.shape}\")  # Devrait être (batch_size,)\n",
    "\n",
    "# Convertir les étiquettes en one-hot si ce n'est pas déjà fait\n",
    "if len(labels.shape) == 1:  # Vérifie si c'est un vecteur\n",
    "    labels_one_hot = F.one_hot(labels, num_classes=10)  # Convertir en one-hot\n",
    "else:\n",
    "    labels_one_hot = labels  # Si déjà en one-hot\n",
    "\n",
    "print(f\"One-hot labels shape: {labels_one_hot.shape}\")  # Devrait être (batch_size, 10)\n",
    "\n",
    "# Passer les données au modèle\n",
    "recons, _, _ = cvae(random_images[0].to(device), labels_one_hot.to(device))\n",
    "\n",
    "# Reshape the images for plotting\n",
    "random_images = random_images[0].cpu().numpy().squeeze()\n",
    "recons = recons.detach().cpu().numpy().squeeze()\n",
    "\n",
    "# Plot the original images and their reconstructions\n",
    "image_comparison(random_images, recons)\n",
    "\n",
    "    \n",
    "labels = labels[:6]\n",
    "for i in labels:\n",
    "    print(fashion_mnist_labels[i])\n",
    "labels_one_hot = labels_one_hot[:10,:]"
   ]
  },
  {
   "cell_type": "markdown",
   "id": "c3c8d9c6-24b2-4d92-b776-cac51f291507",
   "metadata": {},
   "source": [
    "loss ok en vrai car les images sont plutôt bien reconstruites (5/6 sont largement distinguables)"
   ]
  },
  {
   "cell_type": "markdown",
   "id": "843dac46-fad7-42e1-99ab-64b7b27f0bc2",
   "metadata": {},
   "source": [
    "## Generate 5 new samples for each class of the Fashion-MNIST dataset using the CVAE.\n"
   ]
  },
  {
   "cell_type": "code",
   "execution_count": 79,
   "id": "fad55656-fb35-4c0f-9670-68470464fd5b",
   "metadata": {},
   "outputs": [
    {
     "name": "stdout",
     "output_type": "stream",
     "text": [
      "Ankle boot\n",
      "Pullover\n",
      "Pants\n",
      "Pants\n",
      "Shirt\n"
     ]
    },
    {
     "data": {
      "image/png": "[encoded data removed]",
      "text/plain": [
       "<Figure size 1500x200 with 5 Axes>"
      ]
     },
     "metadata": {},
     "output_type": "display_data"
    }
   ],
   "source": [
    "def generate_sample(num_samples=5):\n",
    "    #selection de labels\n",
    "    random_images = next(iter(test_loader))\n",
    "    labels = random_images[1]\n",
    "    labels_one_hot = F.one_hot(labels, num_classes=10)  # Convertir en one-hot\n",
    "\n",
    "    labels = labels[:num_samples]\n",
    "    labels_one_hot = labels_one_hot[:num_samples,:]\n",
    "        \n",
    "    cvae.eval()\n",
    "    with torch.no_grad():\n",
    "        # TODO: Sample random latent vectors\n",
    "        z = torch.randn(num_samples, latent_dim).to(device)  # Sample random latent vectors\n",
    "        y = labels_one_hot.to(device)\n",
    "\n",
    "        for i in labels:\n",
    "            print(fashion_mnist_labels[i])\n",
    "         \n",
    "        samples = cvae.decode(z,y) # Decode the latent vectors\n",
    "        samples = samples.cpu().view(num_samples, 1, 28, 28) # Reshape the samples\n",
    "\n",
    "        fig, ax = plt.subplots(1, num_samples, figsize=(15, 2))\n",
    "        for i in range(num_samples):\n",
    "            ax[i].imshow(samples[i].squeeze(0), cmap='gray')\n",
    "            ax[i].axis('off')\n",
    "        plt.show()\n",
    "\n",
    "generate_sample()"
   ]
  },
  {
   "cell_type": "markdown",
   "id": "01f66112-2e3f-4f93-834d-f148a7a07ee5",
   "metadata": {},
   "source": [
    "## Plot different visualizations for the results: the curves of the different terms in the loss functions, the learnt latent space..."
   ]
  },
  {
   "cell_type": "code",
   "execution_count": null,
   "id": "10f22586-7c6b-4e32-b7c7-99b9d2d9fa83",
   "metadata": {},
   "outputs": [],
   "source": []
  },
  {
   "cell_type": "code",
   "execution_count": null,
   "id": "989e987a-a36e-46d0-a9c3-9b075104293d",
   "metadata": {},
   "outputs": [],
   "source": []
  }
 ],
 "metadata": {
  "kernelspec": {
   "display_name": "torch",
   "language": "python",
   "name": "torch"
  },
  "language_info": {
   "codemirror_mode": {
    "name": "ipython",
    "version": 3
   },
   "file_extension": ".py",
   "mimetype": "text/x-python",
   "name": "python",
   "nbconvert_exporter": "python",
   "pygments_lexer": "ipython3",
   "version": "3.10.14"
  }
 },
 "nbformat": 4,
 "nbformat_minor": 5
}
