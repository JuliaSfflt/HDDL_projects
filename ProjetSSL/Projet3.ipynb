{
 "cells": [
  {
   "cell_type": "markdown",
   "id": "561b28d7-202f-42c6-a4ce-75822454f966",
   "metadata": {},
   "source": [
    "### <left> High-Dimensional Deep Learning - 5A\n",
    "## <center>*Mini-project n° 3 – SSL for Anomaly Detection*</center>\n",
    "### <center>2024-2025</center>\n",
    "<div style=\"text-align: right;\">\n",
    "    <b>Project 3/4</b><br>\n",
    "<div style=\"text-align: left;\">\n",
    "<b>Noms :</b> Maïmouna Gadji, Phuc-Luan Nguyen, Maddie Perez et Julia Soufflet<br>"
   ]
  },
  {
   "cell_type": "markdown",
   "id": "bc1a2420-45fa-4e7e-b95e-33621a17d6b4",
   "metadata": {},
   "source": [
    "### Objectif : \n",
    "\n",
    "L'objectif de ce projet est de "
   ]
  },
  {
   "cell_type": "code",
   "execution_count": 3,
   "id": "d7f4a39c-ac39-433a-8431-9ca1337038e5",
   "metadata": {},
   "outputs": [
    {
     "name": "stdout",
     "output_type": "stream",
     "text": [
      "cuda\n"
     ]
    }
   ],
   "source": [
    "import torch\n",
    "import torch.nn as nn\n",
    "import torch.optim as optim\n",
    "from torchvision import datasets, transforms\n",
    "from torch.utils.data import DataLoader, Dataset\n",
    "import numpy as np\n",
    "import matplotlib.pyplot as plt\n",
    "import os\n",
    "# Device configuration\n",
    "device = torch.device('cuda' if torch.cuda.is_available() else 'cpu')\n",
    "print(device)"
   ]
  },
  {
   "cell_type": "code",
   "execution_count": 7,
   "id": "f69ddd8f-668c-4f9f-8da3-cb5121c499e9",
   "metadata": {},
   "outputs": [],
   "source": [
    "# Training images\n",
    "pathb=\"./MVTec_AD/bottle\"\n",
    "pathh = \"./MVTec_AD/hazelnut\"\n",
    "pathc = \"./MVTec_AD/capsule\"\n",
    "patht = \"./MVTec_AD/toothbrush\""
   ]
  },
  {
   "cell_type": "markdown",
   "id": "7f1045a1-28ef-4273-9533-49edf99e9994",
   "metadata": {},
   "source": [
    "# I - Partie 1 : Train SSL\n",
    "## Pretext tasks 1 : masked autoencoder"
   ]
  },
  {
   "cell_type": "markdown",
   "id": "815dba8b-a033-49bf-870c-1fd34c05cb35",
   "metadata": {},
   "source": [
    "### Sur MVTec_AD"
   ]
  },
  {
   "cell_type": "markdown",
   "id": "1cf12b90-cee3-4934-89e7-75e6c12b404c",
   "metadata": {},
   "source": [
    "### Sur Auto_VI"
   ]
  },
  {
   "cell_type": "markdown",
   "id": "6935ad96-ccfb-47b9-a8a4-a49ccc0669c6",
   "metadata": {},
   "source": [
    "## Pretext tasks 2 : inpainting model"
   ]
  },
  {
   "cell_type": "markdown",
   "id": "92683353-9d69-4f55-8764-50c410a93c24",
   "metadata": {},
   "source": [
    "### Sur MVTec_AD"
   ]
  },
  {
   "cell_type": "markdown",
   "id": "20d5c26e-bc14-4695-a76f-6d03a362525e",
   "metadata": {},
   "source": [
    "### Sur Auto_VI"
   ]
  },
  {
   "cell_type": "markdown",
   "id": "fc405d94-316f-41b3-b6b6-91eabd31fe35",
   "metadata": {},
   "source": [
    "## Pretext tasks 3 : colorizing model"
   ]
  },
  {
   "cell_type": "markdown",
   "id": "207472ec-6a77-4399-af63-eef90a0398d9",
   "metadata": {},
   "source": [
    "### Sur MVTec_AD"
   ]
  },
  {
   "cell_type": "markdown",
   "id": "75cde372-f6f8-468e-80d3-8077cb8d90fc",
   "metadata": {},
   "source": [
    "### Sur Auto_VI"
   ]
  },
  {
   "cell_type": "markdown",
   "id": "abf23d06-0082-4dd5-88bc-05e6ec6ca429",
   "metadata": {},
   "source": [
    "# II - Partie 2 :\n",
    "Use the model loss as an anomaly score and evaluate the anomaly score’s\n",
    "discriminative power by plotting the ROC curve and the AUROC metric."
   ]
  },
  {
   "cell_type": "code",
   "execution_count": null,
   "id": "7a50aca8-705c-4403-a94a-1a9706dcfda1",
   "metadata": {},
   "outputs": [],
   "source": []
  }
 ],
 "metadata": {
  "kernelspec": {
   "display_name": "torch",
   "language": "python",
   "name": "torch"
  },
  "language_info": {
   "codemirror_mode": {
    "name": "ipython",
    "version": 3
   },
   "file_extension": ".py",
   "mimetype": "text/x-python",
   "name": "python",
   "nbconvert_exporter": "python",
   "pygments_lexer": "ipython3",
   "version": "3.10.14"
  }
 },
 "nbformat": 4,
 "nbformat_minor": 5
}
